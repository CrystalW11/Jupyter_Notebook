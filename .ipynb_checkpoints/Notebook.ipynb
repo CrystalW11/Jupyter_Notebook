{
 "cells": [
  {
   "cell_type": "code",
   "execution_count": null,
   "id": "dda6cf39-27c7-4440-8b65-28e541268278",
   "metadata": {},
   "outputs": [],
   "source": [
    "from IPython.display import display, HTML, Javascript\n",
    "import ipywidgets as widgets\n",
    "\n",
    "\n",
    "# Function to calculate the square\n",
    "def square_number(n):\n",
    "    return n**2\n",
    "\n",
    "\n",
    "# Create an input field and a button\n",
    "input_box = widgets.IntText(description=\"Number:\")\n",
    "output_label = widgets.HTML(\n",
    "    \"<p style='font-size: 18px;'>The square will appear here</p>\"\n",
    ")\n",
    "button = widgets.Button(description=\"Get Square\")\n",
    "\n",
    "\n",
    "# Define the button click event\n",
    "def on_button_click(b):\n",
    "    num = input_box.value\n",
    "    squared_value = square_number(num)\n",
    "    output_label.value = (\n",
    "        f\"<p style='font-size: 20px; color: green;'>The square is: {squared_value}</p>\"\n",
    "    )\n",
    "\n",
    "\n",
    "# Attach the event to the button\n",
    "button.on_click(on_button_click)\n",
    "\n",
    "# Display the UI\n",
    "display(\n",
    "    HTML(\n",
    "        \"<h2 style='color:blue; text-align:center;'>Enter a number to calculate its square:</h2>\"\n",
    "    )\n",
    ")\n",
    "display(input_box, button, output_label)"
   ]
  }
 ],
 "metadata": {
  "kernelspec": {
   "display_name": "Python 3 (ipykernel)",
   "language": "python",
   "name": "python3"
  },
  "language_info": {
   "codemirror_mode": {
    "name": "ipython",
    "version": 3
   },
   "file_extension": ".py",
   "mimetype": "text/x-python",
   "name": "python",
   "nbconvert_exporter": "python",
   "pygments_lexer": "ipython3",
   "version": "3.12.2"
  }
 },
 "nbformat": 4,
 "nbformat_minor": 5
}
