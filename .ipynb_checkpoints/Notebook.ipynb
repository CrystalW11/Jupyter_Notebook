{
 "cells": [
  {
   "cell_type": "code",
   "execution_count": null,
   "id": "dda6cf39-27c7-4440-8b65-28e541268278",
   "metadata": {},
   "outputs": [],
   "source": [
    "from IPython.core.display import display, HTML, Javascript\n",
    "\n",
    "display(\n",
    "    HTML(\n",
    "        \"\"\"\n",
    "<!DOCTYPE html>\n",
    "<html lang=\"en\">\n",
    "<head>\n",
    "  <meta charset=\"UTF-8\">\n",
    "  <meta name=\"viewport\" content=\"width=device-width, initial-scale=1.0\">\n",
    "  <title>JavaScript and Python Interaction</title>\n",
    "</head>\n",
    "<body>\n",
    "  <h2>Enter a number to calculate its square:</h2>\n",
    "  <input type=\"number\" id=\"inputNumber\" placeholder=\"Enter a number\">\n",
    "  <button onclick=\"callPython()\">Get Square</button>\n",
    "  <p id=\"result\"></p>\n",
    "\n",
    "  <script type=\"text/javascript\">\n",
    "    function callPython() {\n",
    "      const inputValue = document.getElementById('inputNumber').value;\n",
    "\n",
    "      // Send the value to the Python backend\n",
    "      const kernel = Jupyter.notebook.kernel;\n",
    "      kernel.execute(`square_number(${inputValue})`, {\n",
    "        iopub: {\n",
    "          output: function(msg) {\n",
    "            document.getElementById('result').innerText = 'The square is: ' + msg.content.text;\n",
    "          }\n",
    "        }\n",
    "      });\n",
    "    }\n",
    "  </script>\n",
    "</body>\n",
    "</html>\n",
    "\"\"\"\n",
    "    )\n",
    ")"
   ]
  }
 ],
 "metadata": {
  "kernelspec": {
   "display_name": "Python 3 (ipykernel)",
   "language": "python",
   "name": "python3"
  },
  "language_info": {
   "codemirror_mode": {
    "name": "ipython",
    "version": 3
   },
   "file_extension": ".py",
   "mimetype": "text/x-python",
   "name": "python",
   "nbconvert_exporter": "python",
   "pygments_lexer": "ipython3",
   "version": "3.12.2"
  }
 },
 "nbformat": 4,
 "nbformat_minor": 5
}
