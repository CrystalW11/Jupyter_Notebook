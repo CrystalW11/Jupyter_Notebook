{
 "cells": [
  {
   "cell_type": "code",
   "execution_count": null,
   "id": "dda6cf39-27c7-4440-8b65-28e541268278",
   "metadata": {},
   "outputs": [],
   "source": [
    "# Notebook Practice"
   ]
  },
  {
   "cell_type": "code",
   "execution_count": 3,
   "id": "0282ab63-aa23-4f79-9976-0dde95113e16",
   "metadata": {},
   "outputs": [
    {
     "name": "stdout",
     "output_type": "stream",
     "text": [
      "Object `work` not found.\n"
     ]
    }
   ],
   "source": [
    "does it work?"
   ]
  },
  {
   "cell_type": "code",
   "execution_count": null,
   "id": "0eacefa6-fff2-48a4-bc6e-5f5ba8f0d9e5",
   "metadata": {},
   "outputs": [],
   "source": []
  },
  {
   "cell_type": "code",
   "execution_count": null,
   "id": "6c084e10-2cf4-4a56-af14-4346f7f86741",
   "metadata": {},
   "outputs": [],
   "source": []
  },
  {
   "cell_type": "code",
   "execution_count": null,
   "id": "65734daf-3c36-4910-aa71-d9449167b115",
   "metadata": {},
   "outputs": [],
   "source": []
  }
 ],
 "metadata": {
  "kernelspec": {
   "display_name": "Python 3 (ipykernel)",
   "language": "python",
   "name": "python3"
  },
  "language_info": {
   "codemirror_mode": {
    "name": "ipython",
    "version": 3
   },
   "file_extension": ".py",
   "mimetype": "text/x-python",
   "name": "python",
   "nbconvert_exporter": "python",
   "pygments_lexer": "ipython3",
   "version": "3.12.2"
  }
 },
 "nbformat": 4,
 "nbformat_minor": 5
}
